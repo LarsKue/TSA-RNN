{
 "cells": [
  {
   "cell_type": "markdown",
   "metadata": {
    "pycharm": {
     "name": "#%% md\n"
    }
   },
   "source": [
    "# Exercise 05\n",
    "## Lars Kühmichel, Nicolas Wolf"
   ]
  },
  {
   "cell_type": "code",
   "execution_count": 1,
   "metadata": {
    "pycharm": {
     "name": "#%%\n"
    }
   },
   "outputs": [],
   "source": [
    "import pandas as pd\n",
    "import seaborn as sns\n",
    "import matplotlib.pyplot as plt\n",
    "import numpy as np\n",
    "import statsmodels.api as sm\n",
    "import sympy as sym\n",
    "import sympy.stats as symstats\n",
    "from scipy.special import kl_div"
   ]
  },
  {
   "cell_type": "code",
   "execution_count": 2,
   "metadata": {
    "pycharm": {
     "name": "#%%\n"
    }
   },
   "outputs": [],
   "source": [
    "plt.rc(\"figure\", dpi=150)\n",
    "plt.rc(\"legend\", fontsize=6)"
   ]
  },
  {
   "cell_type": "markdown",
   "metadata": {
    "pycharm": {
     "name": "#%% md\n"
    }
   },
   "source": [
    "## Task 1: Kullback-Leiber Divergence of Two Normal Distributions\n",
    "### 1. What is the specific value of $KL(P||Q)$ when $\\mu_1 = \\mu_2$ and $\\sigma_1 = \\sigma_2$?\n",
    "\n",
    "It's zero, since $p(x) = q(x) \\rightarrow \\log \\frac{p(x)}{q(x)} = \\log 1 = 0$"
   ]
  },
  {
   "cell_type": "markdown",
   "metadata": {
    "pycharm": {
     "name": "#%% md\n"
    }
   },
   "source": [
    "### 2. Calculate the specific values for $KL(P||Q)$ and $KL(Q||P)$ for the given $\\mu$ and $\\sigma$.\n",
    "\n",
    "We use sympy:"
   ]
  },
  {
   "cell_type": "code",
   "execution_count": 3,
   "metadata": {
    "pycharm": {
     "name": "#%%\n"
    }
   },
   "outputs": [],
   "source": [
    "x = sym.Symbol(\"x\", real=True)\n",
    "mu1 = sym.Symbol(\"mu_1\", real=True)\n",
    "mu2 = sym.Symbol(\"mu_2\", real=True)\n",
    "sig1 = sym.Symbol(\"sigma_1\", positive=True)\n",
    "sig2 = sym.Symbol(\"sigma_2\", positive=True)"
   ]
  },
  {
   "cell_type": "code",
   "execution_count": 4,
   "metadata": {
    "pycharm": {
     "name": "#%%\n"
    }
   },
   "outputs": [],
   "source": [
    "def pdf(x, mu, sigma):\n",
    "    # the normal distribution pdf\n",
    "    N = 1 / (sigma * sym.sqrt(2 * sym.pi))\n",
    "    e = ((x - mu) / sigma) ** 2\n",
    "    return N * sym.exp(-e / 2)"
   ]
  },
  {
   "cell_type": "code",
   "execution_count": 5,
   "metadata": {
    "pycharm": {
     "name": "#%%\n"
    }
   },
   "outputs": [
    {
     "data": {
      "text/plain": "sqrt(2)*exp(-(-mu_1 + x)**2/(2*sigma_1**2))/(2*sqrt(pi)*sigma_1)",
      "text/latex": "$\\displaystyle \\frac{\\sqrt{2} e^{- \\frac{\\left(- \\mu_{1} + x\\right)^{2}}{2 \\sigma_{1}^{2}}}}{2 \\sqrt{\\pi} \\sigma_{1}}$"
     },
     "execution_count": 5,
     "metadata": {},
     "output_type": "execute_result"
    }
   ],
   "source": [
    "p = pdf(x, mu1, sig1)\n",
    "q = pdf(x, mu2, sig2)\n",
    "\n",
    "p"
   ]
  },
  {
   "cell_type": "markdown",
   "metadata": {
    "pycharm": {
     "name": "#%% md\n"
    }
   },
   "source": [
    "Plot both distributions"
   ]
  },
  {
   "cell_type": "code",
   "execution_count": 6,
   "metadata": {
    "pycharm": {
     "name": "#%%\n"
    }
   },
   "outputs": [
    {
     "data": {
      "text/plain": "<matplotlib.legend.Legend at 0x7f30c4cf07f0>"
     },
     "execution_count": 6,
     "metadata": {},
     "output_type": "execute_result"
    },
    {
     "data": {
      "text/plain": "<Figure size 432x288 with 1 Axes>",
      "image/png": "[encoded data removed]"
     },
     "metadata": {
      "needs_background": "light"
     },
     "output_type": "display_data"
    }
   ],
   "source": [
    "plotx = np.linspace(-5, 5, 1000)\n",
    "\n",
    "f1 = sym.lambdify([x, mu1, sig1], p)\n",
    "f2 = sym.lambdify([x, mu2, sig2], q)\n",
    "\n",
    "plt.plot(plotx, f1(plotx, -1, 2), label=\"p\")\n",
    "plt.plot(plotx, f2(plotx, 1, 0.5), label=\"q\")\n",
    "plt.xlabel(\"x\")\n",
    "plt.ylabel(\"pdf(x)\")\n",
    "plt.title(\"Probability Densities\")\n",
    "plt.legend()"
   ]
  },
  {
   "cell_type": "code",
   "execution_count": 7,
   "metadata": {
    "pycharm": {
     "name": "#%%\n"
    }
   },
   "outputs": [
    {
     "data": {
      "text/plain": "(mu_1**2 - 2*mu_1*mu_2 + mu_2**2 + sigma_1**2 - sigma_2**2 + log(sigma_2**(2*sigma_2**2)/sigma_1**(2*sigma_2**2)))/(2*sigma_2**2)",
      "text/latex": "$\\displaystyle \\frac{\\mu_{1}^{2} - 2 \\mu_{1} \\mu_{2} + \\mu_{2}^{2} + \\sigma_{1}^{2} - \\sigma_{2}^{2} + \\log{\\left(\\sigma_{1}^{- 2 \\sigma_{2}^{2}} \\sigma_{2}^{2 \\sigma_{2}^{2}} \\right)}}{2 \\sigma_{2}^{2}}$"
     },
     "execution_count": 7,
     "metadata": {},
     "output_type": "execute_result"
    }
   ],
   "source": [
    "def DKL(x, p, q):\n",
    "    return sym.integrate(p * sym.log(p / q), (x, -sym.oo, sym.oo))\n",
    "\n",
    "KL1 = DKL(x, p, q).simplify()\n",
    "KL2 = DKL(x, q, p).simplify()\n",
    "\n",
    "KL1"
   ]
  },
  {
   "cell_type": "code",
   "execution_count": 8,
   "metadata": {
    "pycharm": {
     "name": "#%%\n"
    }
   },
   "outputs": [
    {
     "data": {
      "text/plain": "14.11370563888010938116553575708364686384899973127948949175863998101321275606061056878827334600716262",
      "text/latex": "$\\displaystyle 14.11370563888010938116553575708364686384899973127948949175863998101321275606061056878827334600716262$"
     },
     "execution_count": 8,
     "metadata": {},
     "output_type": "execute_result"
    }
   ],
   "source": [
    "KL1.subs([(mu1, -1), (sig1, 2), (mu2, 1), (sig2, sym.S.Half)]).evalf(100)"
   ]
  },
  {
   "cell_type": "code",
   "execution_count": 9,
   "metadata": {
    "pycharm": {
     "name": "#%%\n"
    }
   },
   "outputs": [
    {
     "data": {
      "text/plain": "1.417544361119890618834464242916353136151000268720510508241360018986787243939389431211726653992837375",
      "text/latex": "$\\displaystyle 1.417544361119890618834464242916353136151000268720510508241360018986787243939389431211726653992837375$"
     },
     "execution_count": 9,
     "metadata": {},
     "output_type": "execute_result"
    }
   ],
   "source": [
    "KL2.subs([(mu1, -1), (sig1, 2), (mu2, 1), (sig2, sym.S.Half)]).evalf(100)"
   ]
  },
  {
   "cell_type": "markdown",
   "metadata": {
    "pycharm": {
     "name": "#%% md\n"
    }
   },
   "source": [
    "As expected, the KL-Divergence is asymmetric. Since samples from $q$ will mostly be in-distribution for $p$, it is a much better fit for $p$ than vice versa. Thus, $KL(Q||P) < KL(P||Q)$."
   ]
  }
 ],
 "metadata": {
  "kernelspec": {
   "display_name": "Python 3 (ipykernel)",
   "language": "python",
   "name": "python3"
  },
  "language_info": {
   "codemirror_mode": {
    "name": "ipython",
    "version": 3
   },
   "file_extension": ".py",
   "mimetype": "text/x-python",
   "name": "python",
   "nbconvert_exporter": "python",
   "pygments_lexer": "ipython3",
   "version": "3.10.2"
  }
 },
 "nbformat": 4,
 "nbformat_minor": 1
}